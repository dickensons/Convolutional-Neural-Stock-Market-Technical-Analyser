{
 "cells": [
  {
   "cell_type": "code",
   "execution_count": 1,
   "metadata": {},
   "outputs": [
    {
     "name": "stderr",
     "output_type": "stream",
     "text": [
      "/usr/local/lib/python3.5/dist-packages/h5py/__init__.py:36: FutureWarning: Conversion of the second argument of issubdtype from `float` to `np.floating` is deprecated. In future, it will be treated as `np.float64 == np.dtype(float).type`.\n",
      "  from ._conv import register_converters as _register_converters\n"
     ]
    }
   ],
   "source": [
    "import tensorflow as tf\n",
    "from tensorflow.python.framework import dtypes\n",
    "from tensorflow.python.framework import random_seed\n",
    "from tensorflow.contrib.learn.python.learn.datasets import base\n",
    "import math\n",
    "import numpy as np\n",
    "import pandas as pd\n",
    "import functools as ft\n",
    "import csv\n",
    "import os\n",
    "import random\n"
   ]
  },
  {
   "cell_type": "code",
   "execution_count": 2,
   "metadata": {},
   "outputs": [],
   "source": [
    "def load_csv(fname, col_start=1, row_start=1, delimiter=\",\", dtype=dtypes.float32):\n",
    "    data = np.genfromtxt(fname, delimiter=delimiter)\n",
    "    for _ in range(col_start):\n",
    "        data = np.delete(data, (0), axis=1)\n",
    "    for _ in range(row_start):\n",
    "        data = np.delete(data, (0), axis=0)\n",
    "    # remove two unnecessary columns\n",
    "    data = data[:,:5]\n",
    "    # use less data for test\n",
    "    data = data[2000000:2010000]\n",
    "    print('data.shape ', data.shape)\n",
    "    # print(np.transpose(data))\n",
    "    return data\n",
    "\n"
   ]
  },
  {
   "cell_type": "code",
   "execution_count": 4,
   "metadata": {},
   "outputs": [],
   "source": [
    "def process_data(data):\n",
    "    columns = 5\n",
    "    moving_window = 128\n",
    "    stock_set = np.zeros([0,2,moving_window,columns])\n",
    "    label_set = np.zeros([0,2])\n",
    "    rising_idx = 0\n",
    "    fall_idx = 0\n",
    "    # start from 1152 because we need to add 128 prices for each 10 minutes in the past\n",
    "    for idx in range(1152,data.shape[0] - (moving_window + 5)):\n",
    "#       min_data     = data[range(idx,idx+(moving_window)),:]\n",
    "#       e10_min_data = data[range((idx+moving_window)-(moving_window*10),idx+(moving_window),10)]\n",
    "#       temp = []\n",
    "#       temp.append(min_data)\n",
    "#       temp.append(e10_min_data)\n",
    "        if idx % 500 == 0:\n",
    "            print(\"index: \" , idx)\n",
    "          # OLD if data[idx+(moving_window+5),3] > data[idx+(moving_window),3]:\n",
    "          # true if the price will rise at least 0.1 %\n",
    "        average_price_in_5_min = np.average(data[range((idx + (moving_window)),(idx + (moving_window + 5))),3])\n",
    "        if average_price_in_5_min > (data[idx + (moving_window), 3]*1.00001):\n",
    "            rising_idx +=1\n",
    "            lbl = [[1.0, 0.0]]\n",
    "            stock_set = np.concatenate((stock_set, np.expand_dims([data[range(idx,idx+(moving_window)),:],data[range((idx+moving_window)-(moving_window*10),idx+(moving_window),10)]], axis=0)), axis=0)\n",
    "            label_set = np.concatenate((label_set, lbl), axis=0)\n",
    "            #print(\"Price has risen!!!\")\n",
    "        else:\n",
    "            fall_idx +=1\n",
    "            lbl = [[0.0, 1.0]]\n",
    "            # 33% chance to not use this window.\n",
    "            if(random.choice([0,1])==0):\n",
    "                stock_set = np.concatenate((stock_set, np.expand_dims([data[range(idx,idx+(moving_window)),:],data[range((idx+moving_window)-(moving_window*10),idx+(moving_window),10)]], axis=0)), axis=0)\n",
    "                label_set = np.concatenate((label_set, lbl), axis=0)\n",
    "       # if idx % 500 == 0:\n",
    "            #print('label_set added %s average price: %f , last: %f'  % (lbl,average_price_in_5_min,data[idx + (moving_window), 3]*1.0001 ))  \n",
    "      # label_set = np.concatenate((label_set, np.array([data[idx+(moving_window+5),3] - data[idx+(moving_window),3]])))\n",
    "        if idx % 5000 == 0:\n",
    "            index = idx/5000\n",
    "            np.save('data/stock_set_'+str(index),stock_set)\n",
    "            np.save('data/label_set_'+str(index),label_set)\n",
    "            print(\"Saved!\")\n",
    "            stock_set = np.zeros([0,2,moving_window,columns])\n",
    "            label_set = np.zeros([0,2])  \n",
    "    print(stock_set.shape, label_set.shape)\n",
    "   # return stock_set, label_set"
   ]
  },
  {
   "cell_type": "code",
   "execution_count": 5,
   "metadata": {},
   "outputs": [
    {
     "name": "stdout",
     "output_type": "stream",
     "text": [
      "data.shape  (10000, 5)\n",
      "index:  1500\n",
      "index:  2000\n",
      "index:  2500\n",
      "index:  3000\n",
      "index:  3500\n",
      "index:  4000\n",
      "index:  4500\n",
      "index:  5000\n",
      "Saved!\n",
      "index:  5500\n",
      "index:  6000\n",
      "index:  6500\n",
      "index:  7000\n",
      "index:  7500\n",
      "index:  8000\n",
      "index:  8500\n",
      "index:  9000\n",
      "index:  9500\n",
      "(3650, 2, 128, 5) (3650, 2)\n"
     ]
    }
   ],
   "source": [
    "process_data(load_csv(\"..//input/bitcoin-historical-data/bitstampUSD_1-min_data_2012-01-01_to_2018-01-08.csv\"))"
   ]
  },
  {
   "cell_type": "code",
   "execution_count": 40,
   "metadata": {},
   "outputs": [
    {
     "data": {
      "text/plain": [
       "1"
      ]
     },
     "execution_count": 40,
     "metadata": {},
     "output_type": "execute_result"
    }
   ],
   "source": [
    ""
   ]
  },
  {
   "cell_type": "code",
   "execution_count": null,
   "metadata": {},
   "outputs": [],
   "source": [
    ""
   ]
  },
  {
   "cell_type": "code",
   "execution_count": null,
   "metadata": {},
   "outputs": [],
   "source": []
  }
 ],
 "metadata": {
  "kernelspec": {
   "display_name": "Python 3",
   "language": "python",
   "name": "python3"
  },
  "language_info": {
   "codemirror_mode": {
    "name": "ipython",
    "version": 3
   },
   "file_extension": ".py",
   "mimetype": "text/x-python",
   "name": "python",
   "nbconvert_exporter": "python",
   "pygments_lexer": "ipython3",
   "version": "3.5.2"
  }
 },
 "nbformat": 4,
 "nbformat_minor": 2
}
