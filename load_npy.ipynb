{
 "cells": [
  {
   "cell_type": "code",
   "execution_count": 1,
   "metadata": {},
   "outputs": [],
   "source": [
    "import os\n",
    "import numpy as np\n",
    "from sys import getsizeof"
   ]
  },
  {
   "cell_type": "code",
   "execution_count": 2,
   "metadata": {},
   "outputs": [
    {
     "name": "stdout",
     "output_type": "stream",
     "text": [
      "total 20\r\n",
      "drwxr-xr-x 2 kuzmenko dbvis 4096 Feb 26 13:40 .\r\n",
      "drwxr-xr-x 9 kuzmenko dbvis 4096 Feb 26 14:25 ..\r\n",
      "-rw-r--r-- 1 kuzmenko dbvis 6148 Dec  2  2019 .DS_Store\r\n",
      "-rw-r--r-- 1 kuzmenko dbvis   70 Dec  2  2019 ._.DS_Store\r\n"
     ]
    }
   ],
   "source": [
    "!ls checkpoints/ -la"
   ]
  },
  {
   "cell_type": "code",
   "execution_count": 12,
   "metadata": {},
   "outputs": [
    {
     "name": "stdout",
     "output_type": "stream",
     "text": [
      "LICENSE\t\t      __init__.py  data\t\t   loader.py\t   stock_set\r\n",
      "README.md\t      __pycache__  input\t   ops.py\r\n",
      "Save_np_arrays.ipynb  checkpoints  load_npy.ipynb  stock_model.py\r\n"
     ]
    }
   ],
   "source": [
    "!ls"
   ]
  },
  {
   "cell_type": "code",
   "execution_count": 33,
   "metadata": {},
   "outputs": [],
   "source": [
    "!rm -rf checkpoints/*"
   ]
  },
  {
   "cell_type": "code",
   "execution_count": 3,
   "metadata": {},
   "outputs": [],
   "source": [
    "import re\n",
    "numbers = re.compile(r'(\\d+)')\n",
    "def numericalSort(value):\n",
    "    parts = numbers.split(value)\n",
    "    parts[1::2] = map(int, parts[1::2])\n",
    "    return parts"
   ]
  },
  {
   "cell_type": "code",
   "execution_count": 13,
   "metadata": {
    "scrolled": true
   },
   "outputs": [
    {
     "name": "stdout",
     "output_type": "stream",
     "text": [
      "Current File Being Processed is: label_set_debug_1.0.npy\n",
      "Current File Being Processed is: stock_set_debug_1.0.npy\n"
     ]
    }
   ],
   "source": [
    "path = \"data\"\n",
    "stocks_set = np.zeros([0,2,128,5])\n",
    "labels_set = np.zeros([0,2])\n",
    "for dir_item in sorted(os.listdir(path), key=numericalSort):\n",
    "    dir_item_path = os.path.join(path, dir_item)\n",
    "    if os.path.isfile(dir_item_path):\n",
    "        print (\"Current File Being Processed is: \" + dir_item)\n",
    "        if(\"stock\" in dir_item):\n",
    "            ss = np.load(dir_item_path)\n",
    "            stocks_set = np.concatenate((stocks_set, ss), axis=0)\n",
    "        else:\n",
    "            ls = np.load(dir_item_path)\n",
    "            labels_set = np.concatenate((labels_set, ls), axis=0)"
   ]
  },
  {
   "cell_type": "code",
   "execution_count": 14,
   "metadata": {},
   "outputs": [
    {
     "name": "stdout",
     "output_type": "stream",
     "text": [
      "28.046875 (2872, 2, 128, 5) (2872, 2)\n"
     ]
    }
   ],
   "source": [
    "print(stocks_set.nbytes/1048576,stocks_set.shape,labels_set.shape)\n"
   ]
  },
  {
   "cell_type": "code",
   "execution_count": 15,
   "metadata": {},
   "outputs": [
    {
     "name": "stdout",
     "output_type": "stream",
     "text": [
      "labels_set len: 2872, Prise risen: 1910, prise fall: 962\n"
     ]
    }
   ],
   "source": [
    "up = 0\n",
    "down = 0\n",
    "idxes_to_take =[]\n",
    "for idx,val in enumerate(labels_set):\n",
    "    if val[0]==1.:\n",
    "        up +=1\n",
    "#         idxes_to_take.append(idx)\n",
    "    else: \n",
    "        down +=1\n",
    "#         if(up>down):\n",
    "#             idxes_to_take.append(idx)\n",
    "# print(\" idxes_to_take \", idxes_to_take)\n",
    "print(\"labels_set len: %d, Prise risen: %d, prise fall: %d\" %(len(labels_set), up, down))"
   ]
  },
  {
   "cell_type": "code",
   "execution_count": 16,
   "metadata": {},
   "outputs": [],
   "source": [
    "# shuffling the data\n",
    "perm = np.arange(labels_set.shape[0])\n",
    "np.random.shuffle(perm)\n",
    "stocks_set = stocks_set[perm]\n",
    "labels_set = labels_set[perm]\n",
    "\n",
    "\n",
    "# normalize the data\n",
    "stocks_set_ = np.zeros(stocks_set.shape)\n",
    "for i in range(len(stocks_set)):\n",
    "    min = stocks_set[i].min(axis=(0,1), keepdims=True)\n",
    "    max = stocks_set[i].max(axis=(0,1), keepdims=True)\n",
    "    stocks_set_[i] = (stocks_set[i] - min) / (max - min)\n",
    "stocks_set = stocks_set_\n",
    "\n",
    "train_test_ratio=4.0\n",
    "# selecting 1/5 for testing, and 4/5 for training\n",
    "train_test_idx = int((1.0 / (train_test_ratio + 1.0)) * labels_set.shape[0])\n",
    "train_stocks = stocks_set[train_test_idx:,:,:]\n",
    "train_labels = labels_set[train_test_idx:]\n",
    "test_stocks = stocks_set[:train_test_idx,:,:]\n",
    "test_labels = labels_set[:train_test_idx]"
   ]
  },
  {
   "cell_type": "code",
   "execution_count": 17,
   "metadata": {},
   "outputs": [],
   "source": [
    "np.save('input/train_stocks_debug',train_stocks)\n",
    "np.save('input/train_labels_debug',train_labels)\n",
    "np.save('input/test_stocks_debug',test_stocks)\n",
    "np.save('input/test_labels_debug',test_labels)"
   ]
  },
  {
   "cell_type": "code",
   "execution_count": 18,
   "metadata": {},
   "outputs": [
    {
     "name": "stdout",
     "output_type": "stream",
     "text": [
      "LICENSE\t\t      __init__.py  data\t\t   loader.py\t   stock_set\r\n",
      "README.md\t      __pycache__  input\t   ops.py\r\n",
      "Save_np_arrays.ipynb  checkpoints  load_npy.ipynb  stock_model.py\r\n"
     ]
    }
   ],
   "source": [
    "!ls "
   ]
  },
  {
   "cell_type": "code",
   "execution_count": null,
   "metadata": {},
   "outputs": [
    {
     "name": "stdout",
     "output_type": "stream",
     "text": [
      "/usr/local/lib/python3.5/dist-packages/h5py/__init__.py:36: FutureWarning: Conversion of the second argument of issubdtype from `float` to `np.floating` is deprecated. In future, it will be treated as `np.float64 == np.dtype(float).type`.\n",
      "  from ._conv import register_converters as _register_converters\n",
      "First layer output:  Tensor(\"prediction/model/conv_1/Relu:0\", shape=(?, 2, 128, 128), dtype=float32)\n",
      "2018-02-26 17:41:14.828672: I tensorflow/core/platform/cpu_feature_guard.cc:137] Your CPU supports instructions that this TensorFlow binary was not compiled to use: SSE4.1 SSE4.2 AVX AVX2 FMA\n",
      "2018-02-26 17:41:15.306387: I tensorflow/core/common_runtime/gpu/gpu_device.cc:1030] Found device 0 with properties: \n",
      "name: Tesla P100-PCIE-16GB major: 6 minor: 0 memoryClockRate(GHz): 1.3285\n",
      "pciBusID: 0000:07:00.0\n",
      "totalMemory: 15.89GiB freeMemory: 14.89GiB\n",
      "2018-02-26 17:41:15.638205: I tensorflow/core/common_runtime/gpu/gpu_device.cc:1030] Found device 1 with properties: \n",
      "name: Quadro M6000 major: 5 minor: 2 memoryClockRate(GHz): 1.114\n",
      "pciBusID: 0000:04:00.0\n",
      "totalMemory: 11.92GiB freeMemory: 11.68GiB\n",
      "2018-02-26 17:41:15.962069: I tensorflow/core/common_runtime/gpu/gpu_device.cc:1030] Found device 2 with properties: \n",
      "name: Quadro M6000 major: 5 minor: 2 memoryClockRate(GHz): 1.114\n",
      "pciBusID: 0000:06:00.0\n",
      "totalMemory: 11.92GiB freeMemory: 11.68GiB\n",
      "2018-02-26 17:41:16.061825: I tensorflow/core/common_runtime/gpu/gpu_device.cc:1030] Found device 3 with properties: \n",
      "name: Quadro K5000 major: 3 minor: 0 memoryClockRate(GHz): 0.7055\n",
      "pciBusID: 0000:0c:00.0\n",
      "totalMemory: 3.94GiB freeMemory: 3.84GiB\n",
      "2018-02-26 17:41:16.062085: I tensorflow/core/common_runtime/gpu/gpu_device.cc:1045] Device peer to peer matrix\n",
      "2018-02-26 17:41:16.062128: I tensorflow/core/common_runtime/gpu/gpu_device.cc:1051] DMA: 0 1 2 3 \n",
      "2018-02-26 17:41:16.062139: I tensorflow/core/common_runtime/gpu/gpu_device.cc:1061] 0:   Y N N N \n",
      "2018-02-26 17:41:16.062147: I tensorflow/core/common_runtime/gpu/gpu_device.cc:1061] 1:   N Y Y N \n",
      "2018-02-26 17:41:16.062154: I tensorflow/core/common_runtime/gpu/gpu_device.cc:1061] 2:   N Y Y N \n",
      "2018-02-26 17:41:16.062162: I tensorflow/core/common_runtime/gpu/gpu_device.cc:1061] 3:   N N N Y \n",
      "2018-02-26 17:41:16.062175: I tensorflow/core/common_runtime/gpu/gpu_device.cc:1120] Creating TensorFlow device (/device:GPU:0) -> (device: 0, name: Tesla P100-PCIE-16GB, pci bus id: 0000:07:00.0, compute capability: 6.0)\n",
      "2018-02-26 17:41:16.062185: I tensorflow/core/common_runtime/gpu/gpu_device.cc:1120] Creating TensorFlow device (/device:GPU:1) -> (device: 1, name: Quadro M6000, pci bus id: 0000:04:00.0, compute capability: 5.2)\n",
      "2018-02-26 17:41:16.062193: I tensorflow/core/common_runtime/gpu/gpu_device.cc:1120] Creating TensorFlow device (/device:GPU:2) -> (device: 2, name: Quadro M6000, pci bus id: 0000:06:00.0, compute capability: 5.2)\n",
      "2018-02-26 17:41:16.062201: I tensorflow/core/common_runtime/gpu/gpu_device.cc:1120] Creating TensorFlow device (/device:GPU:3) -> (device: 3, name: Quadro K5000, pci bus id: 0000:0c:00.0, compute capability: 3.0)\n",
      "step 0, test accuracy 0.67\n",
      "step 0, train accuracy 0.55\n",
      "step 100, test accuracy 0.7\n",
      "step 100, train accuracy 0.67\n",
      "step 200, test accuracy 0.72\n",
      "step 200, train accuracy 0.7\n",
      "step 300, test accuracy 0.67\n",
      "step 300, train accuracy 0.72\n",
      "step 400, test accuracy 0.67\n",
      "step 400, train accuracy 0.64\n"
     ]
    }
   ],
   "source": [
    "! python3 stock_model.py"
   ]
  },
  {
   "cell_type": "code",
   "execution_count": null,
   "metadata": {},
   "outputs": [],
   "source": []
  }
 ],
 "metadata": {
  "kernelspec": {
   "display_name": "Python 3",
   "language": "python",
   "name": "python3"
  },
  "language_info": {
   "codemirror_mode": {
    "name": "ipython",
    "version": 3
   },
   "file_extension": ".py",
   "mimetype": "text/x-python",
   "name": "python",
   "nbconvert_exporter": "python",
   "pygments_lexer": "ipython3",
   "version": "3.5.2"
  }
 },
 "nbformat": 4,
 "nbformat_minor": 2
}
